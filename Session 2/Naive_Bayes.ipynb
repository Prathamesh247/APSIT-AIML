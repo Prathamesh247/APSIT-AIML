{
  "nbformat": 4,
  "nbformat_minor": 0,
  "metadata": {
    "colab": {
      "provenance": [],
      "collapsed_sections": []
    },
    "kernelspec": {
      "name": "python3",
      "display_name": "Python 3"
    },
    "language_info": {
      "name": "python"
    }
  },
  "cells": [
    {
      "cell_type": "markdown",
      "source": [
        "# **Naive Bayes with Python Scikit Learn**\n",
        "\n",
        "\n",
        "----\n",
        "\n",
        "Now we will see how Python Scikit-Learn library for machine learning can be used to implement Naive Bayes Classifier.\n"
      ],
      "metadata": {
        "id": "2XzoWBZAEMSj"
      }
    },
    {
      "cell_type": "markdown",
      "source": [
        "# **Naive Bayes Classifier**\n",
        "\n",
        "\n",
        "---\n",
        "Naive Bayes Classifier is a supervised learning algorithm used for classification based on Bayes' Theorem. It is not just an algorithm, but a collection of many algorithms that work on the same concept, the Bayes' Theorem.\n",
        "\n",
        "# **Type of Naive Bayes Classifier**\n",
        "\n",
        "---\n",
        "\n",
        "\n",
        "We have three type of naive bayes classifier:  \n",
        "\n",
        "*   Gaussian\n",
        "*   Multinomial\n",
        "*   Bernoulli\n",
        "\n",
        "**Note:** We will be implementing Gaussian Naive Bayes in the below code\n",
        "\n",
        "\n",
        "# **Bayes Theorem**\n",
        "---\n",
        "\n",
        "![204.png](data:image/png;base64,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)\n",
        "\n",
        "Where,\n",
        "\n",
        "* P(c|x) is the posterior probability of class c given predictor ( features).\n",
        "* P(c) is the probability of class.\n",
        "* P(x|c) is the likelihood which is the probability of predictor given class.\n",
        "* P(x) is the prior probability of predictor."
      ],
      "metadata": {
        "id": "ICjSfpB5El-W"
      }
    },
    {
      "cell_type": "markdown",
      "source": [
        "Using Bayes theorem, we can find the probability of C happening, given that X has occurred. Here, X is the evidence and C is the hypothesis. The assumption made here is that the predictors/features are independent ,i.e., presence of one particular feature does not affect the other. Hence it is called naive.\n"
      ],
      "metadata": {
        "id": "snHpuekQIjtv"
      }
    },
    {
      "cell_type": "markdown",
      "source": [
        "# **Step 1: Importing Libraries**"
      ],
      "metadata": {
        "id": "eDiFdDv-JQ1f"
      }
    },
    {
      "cell_type": "code",
      "source": [
        "# import dependencies\n",
        "import numpy as np\n",
        "import pandas as pd\n",
        "\n",
        "# other dependencies that you might not need\n",
        "# just for publishing image in notebook\n",
        "from IPython.display import Image\n",
        "from IPython.core.display import HTML \n",
        "%matplotlib  inline"
      ],
      "metadata": {
        "id": "aXF4-TOSJih3"
      },
      "execution_count": null,
      "outputs": []
    },
    {
      "cell_type": "markdown",
      "source": [
        "# **Step 2: Reading Data**"
      ],
      "metadata": {
        "id": "VluXMyUlJp8e"
      }
    },
    {
      "cell_type": "code",
      "source": [
        "# column has all the name of column name \n",
        "# our data is stored in dataframe: data\n",
        "\n",
        "column = [\"Pregnancies\",\"Glucose\",\"BloodPressure\",\"SkinThickness\",\"Insulin\",\"BMI\",\"DiabetesPedigreeFunction\",\"Age\",\"Outcome\"]\n",
        "data = pd.read_csv('/content/pima-indians-diabetes.csv',names=column)\n",
        "\n",
        "# This dataset describes the medical records for Pima Indians and whether or not each patient will have an onset of diabetes within \fve years.\n",
        "\n",
        "data.head()"
      ],
      "metadata": {
        "colab": {
          "base_uri": "https://localhost:8080/",
          "height": 206
        },
        "id": "TWuVi1DUJsgw",
        "outputId": "089e230f-cbb8-4138-bc30-a46400e86e6d"
      },
      "execution_count": null,
      "outputs": [
        {
          "output_type": "execute_result",
          "data": {
            "text/plain": [
              "   Pregnancies  Glucose  BloodPressure  SkinThickness  Insulin   BMI  \\\n",
              "0            6      148             72             35        0  33.6   \n",
              "1            1       85             66             29        0  26.6   \n",
              "2            8      183             64              0        0  23.3   \n",
              "3            1       89             66             23       94  28.1   \n",
              "4            0      137             40             35      168  43.1   \n",
              "\n",
              "   DiabetesPedigreeFunction  Age  Outcome  \n",
              "0                     0.627   50        1  \n",
              "1                     0.351   31        0  \n",
              "2                     0.672   32        1  \n",
              "3                     0.167   21        0  \n",
              "4                     2.288   33        1  "
            ],
            "text/html": [
              "\n",
              "  <div id=\"df-8bd9d897-bfd0-45fb-9c8c-a87072833eea\">\n",
              "    <div class=\"colab-df-container\">\n",
              "      <div>\n",
              "<style scoped>\n",
              "    .dataframe tbody tr th:only-of-type {\n",
              "        vertical-align: middle;\n",
              "    }\n",
              "\n",
              "    .dataframe tbody tr th {\n",
              "        vertical-align: top;\n",
              "    }\n",
              "\n",
              "    .dataframe thead th {\n",
              "        text-align: right;\n",
              "    }\n",
              "</style>\n",
              "<table border=\"1\" class=\"dataframe\">\n",
              "  <thead>\n",
              "    <tr style=\"text-align: right;\">\n",
              "      <th></th>\n",
              "      <th>Pregnancies</th>\n",
              "      <th>Glucose</th>\n",
              "      <th>BloodPressure</th>\n",
              "      <th>SkinThickness</th>\n",
              "      <th>Insulin</th>\n",
              "      <th>BMI</th>\n",
              "      <th>DiabetesPedigreeFunction</th>\n",
              "      <th>Age</th>\n",
              "      <th>Outcome</th>\n",
              "    </tr>\n",
              "  </thead>\n",
              "  <tbody>\n",
              "    <tr>\n",
              "      <th>0</th>\n",
              "      <td>6</td>\n",
              "      <td>148</td>\n",
              "      <td>72</td>\n",
              "      <td>35</td>\n",
              "      <td>0</td>\n",
              "      <td>33.6</td>\n",
              "      <td>0.627</td>\n",
              "      <td>50</td>\n",
              "      <td>1</td>\n",
              "    </tr>\n",
              "    <tr>\n",
              "      <th>1</th>\n",
              "      <td>1</td>\n",
              "      <td>85</td>\n",
              "      <td>66</td>\n",
              "      <td>29</td>\n",
              "      <td>0</td>\n",
              "      <td>26.6</td>\n",
              "      <td>0.351</td>\n",
              "      <td>31</td>\n",
              "      <td>0</td>\n",
              "    </tr>\n",
              "    <tr>\n",
              "      <th>2</th>\n",
              "      <td>8</td>\n",
              "      <td>183</td>\n",
              "      <td>64</td>\n",
              "      <td>0</td>\n",
              "      <td>0</td>\n",
              "      <td>23.3</td>\n",
              "      <td>0.672</td>\n",
              "      <td>32</td>\n",
              "      <td>1</td>\n",
              "    </tr>\n",
              "    <tr>\n",
              "      <th>3</th>\n",
              "      <td>1</td>\n",
              "      <td>89</td>\n",
              "      <td>66</td>\n",
              "      <td>23</td>\n",
              "      <td>94</td>\n",
              "      <td>28.1</td>\n",
              "      <td>0.167</td>\n",
              "      <td>21</td>\n",
              "      <td>0</td>\n",
              "    </tr>\n",
              "    <tr>\n",
              "      <th>4</th>\n",
              "      <td>0</td>\n",
              "      <td>137</td>\n",
              "      <td>40</td>\n",
              "      <td>35</td>\n",
              "      <td>168</td>\n",
              "      <td>43.1</td>\n",
              "      <td>2.288</td>\n",
              "      <td>33</td>\n",
              "      <td>1</td>\n",
              "    </tr>\n",
              "  </tbody>\n",
              "</table>\n",
              "</div>\n",
              "      <button class=\"colab-df-convert\" onclick=\"convertToInteractive('df-8bd9d897-bfd0-45fb-9c8c-a87072833eea')\"\n",
              "              title=\"Convert this dataframe to an interactive table.\"\n",
              "              style=\"display:none;\">\n",
              "        \n",
              "  <svg xmlns=\"http://www.w3.org/2000/svg\" height=\"24px\"viewBox=\"0 0 24 24\"\n",
              "       width=\"24px\">\n",
              "    <path d=\"M0 0h24v24H0V0z\" fill=\"none\"/>\n",
              "    <path d=\"M18.56 5.44l.94 2.06.94-2.06 2.06-.94-2.06-.94-.94-2.06-.94 2.06-2.06.94zm-11 1L8.5 8.5l.94-2.06 2.06-.94-2.06-.94L8.5 2.5l-.94 2.06-2.06.94zm10 10l.94 2.06.94-2.06 2.06-.94-2.06-.94-.94-2.06-.94 2.06-2.06.94z\"/><path d=\"M17.41 7.96l-1.37-1.37c-.4-.4-.92-.59-1.43-.59-.52 0-1.04.2-1.43.59L10.3 9.45l-7.72 7.72c-.78.78-.78 2.05 0 2.83L4 21.41c.39.39.9.59 1.41.59.51 0 1.02-.2 1.41-.59l7.78-7.78 2.81-2.81c.8-.78.8-2.07 0-2.86zM5.41 20L4 18.59l7.72-7.72 1.47 1.35L5.41 20z\"/>\n",
              "  </svg>\n",
              "      </button>\n",
              "      \n",
              "  <style>\n",
              "    .colab-df-container {\n",
              "      display:flex;\n",
              "      flex-wrap:wrap;\n",
              "      gap: 12px;\n",
              "    }\n",
              "\n",
              "    .colab-df-convert {\n",
              "      background-color: #E8F0FE;\n",
              "      border: none;\n",
              "      border-radius: 50%;\n",
              "      cursor: pointer;\n",
              "      display: none;\n",
              "      fill: #1967D2;\n",
              "      height: 32px;\n",
              "      padding: 0 0 0 0;\n",
              "      width: 32px;\n",
              "    }\n",
              "\n",
              "    .colab-df-convert:hover {\n",
              "      background-color: #E2EBFA;\n",
              "      box-shadow: 0px 1px 2px rgba(60, 64, 67, 0.3), 0px 1px 3px 1px rgba(60, 64, 67, 0.15);\n",
              "      fill: #174EA6;\n",
              "    }\n",
              "\n",
              "    [theme=dark] .colab-df-convert {\n",
              "      background-color: #3B4455;\n",
              "      fill: #D2E3FC;\n",
              "    }\n",
              "\n",
              "    [theme=dark] .colab-df-convert:hover {\n",
              "      background-color: #434B5C;\n",
              "      box-shadow: 0px 1px 3px 1px rgba(0, 0, 0, 0.15);\n",
              "      filter: drop-shadow(0px 1px 2px rgba(0, 0, 0, 0.3));\n",
              "      fill: #FFFFFF;\n",
              "    }\n",
              "  </style>\n",
              "\n",
              "      <script>\n",
              "        const buttonEl =\n",
              "          document.querySelector('#df-8bd9d897-bfd0-45fb-9c8c-a87072833eea button.colab-df-convert');\n",
              "        buttonEl.style.display =\n",
              "          google.colab.kernel.accessAllowed ? 'block' : 'none';\n",
              "\n",
              "        async function convertToInteractive(key) {\n",
              "          const element = document.querySelector('#df-8bd9d897-bfd0-45fb-9c8c-a87072833eea');\n",
              "          const dataTable =\n",
              "            await google.colab.kernel.invokeFunction('convertToInteractive',\n",
              "                                                     [key], {});\n",
              "          if (!dataTable) return;\n",
              "\n",
              "          const docLinkHtml = 'Like what you see? Visit the ' +\n",
              "            '<a target=\"_blank\" href=https://colab.research.google.com/notebooks/data_table.ipynb>data table notebook</a>'\n",
              "            + ' to learn more about interactive tables.';\n",
              "          element.innerHTML = '';\n",
              "          dataTable['output_type'] = 'display_data';\n",
              "          await google.colab.output.renderOutput(dataTable, element);\n",
              "          const docLink = document.createElement('div');\n",
              "          docLink.innerHTML = docLinkHtml;\n",
              "          element.appendChild(docLink);\n",
              "        }\n",
              "      </script>\n",
              "    </div>\n",
              "  </div>\n",
              "  "
            ]
          },
          "metadata": {},
          "execution_count": 3
        }
      ]
    },
    {
      "cell_type": "markdown",
      "source": [
        "# **Step 3: Data Preprocessing**"
      ],
      "metadata": {
        "id": "I3G58Xz9J1An"
      }
    },
    {
      "cell_type": "code",
      "source": [
        "X = data.iloc[:,0:-1] # X is the features in our dataset\n",
        "y = data.iloc[:,-1]   # y is the Labels in our dataset"
      ],
      "metadata": {
        "id": "myuOL1FzKASf"
      },
      "execution_count": null,
      "outputs": []
    },
    {
      "cell_type": "markdown",
      "source": [
        "# **Step 4: Building Model**"
      ],
      "metadata": {
        "id": "nZjDJ7pIKCvz"
      }
    },
    {
      "cell_type": "code",
      "source": [
        "# divide the dataset in train test using scikit learn\n",
        "# now the model will train in training dataset and then we will use test dataset to predict its accuracy\n",
        "\n",
        "from sklearn.model_selection import train_test_split\n",
        "\n",
        "X_train, X_test, y_train, y_test = train_test_split(X, y, test_size=0.33, random_state=42) "
      ],
      "metadata": {
        "id": "_kIFXqyBKO_j"
      },
      "execution_count": null,
      "outputs": []
    },
    {
      "cell_type": "code",
      "source": [
        "# now preparing our model as per Gaussian Naive Bayesian\n",
        "\n",
        "from sklearn.naive_bayes import GaussianNB\n",
        "\n",
        "model = GaussianNB().fit(X_train, y_train) #fitting our model"
      ],
      "metadata": {
        "id": "zPU4BGuBKejh"
      },
      "execution_count": null,
      "outputs": []
    },
    {
      "cell_type": "markdown",
      "source": [
        "# **Step 5: Making Prediction**"
      ],
      "metadata": {
        "id": "xg3V6EO0KfNF"
      }
    },
    {
      "cell_type": "code",
      "source": [
        "predicted_y = model.predict(X_test) #now predicting our model to our test dataset\n",
        "print (predicted_y)"
      ],
      "metadata": {
        "id": "nfX5okljKp-M",
        "colab": {
          "base_uri": "https://localhost:8080/"
        },
        "outputId": "b73d1cdc-b2f4-42df-f185-7f4762d0d56b"
      },
      "execution_count": null,
      "outputs": [
        {
          "output_type": "stream",
          "name": "stdout",
          "text": [
            "[0 0 0 0 1 1 0 0 0 1 0 1 1 0 0 0 0 0 1 0 0 0 1 0 1 1 0 0 0 0 1 1 1 0 1 1 1\n",
            " 0 1 0 0 0 0 1 0 1 1 0 0 1 0 1 1 0 0 0 1 0 0 1 1 0 1 1 0 1 0 1 0 1 1 0 0 0\n",
            " 0 1 0 0 0 0 1 0 0 0 0 1 1 0 0 0 0 0 0 0 0 1 0 0 1 0 1 0 1 1 1 0 0 1 0 1 0\n",
            " 0 0 1 0 0 1 0 0 0 0 0 0 0 0 1 0 1 1 1 1 1 0 1 1 0 0 1 1 0 0 0 0 1 0 0 0 0\n",
            " 0 1 0 0 1 0 0 1 0 1 1 0 0 1 0 0 0 1 0 0 1 1 1 0 0 1 1 0 0 1 0 0 1 1 0 1 1\n",
            " 0 0 0 1 1 0 0 1 0 0 0 0 0 0 1 0 0 0 1 1 0 0 0 1 1 0 0 0 0 1 0 1 0 0 1 1 0\n",
            " 0 0 0 0 0 0 0 0 0 0 1 1 0 0 0 0 0 0 0 0 0 0 0 0 1 0 0 0 0 0 1 0]\n"
          ]
        }
      ]
    },
    {
      "cell_type": "markdown",
      "source": [
        "# **Step 6: Calculating Accuracy**"
      ],
      "metadata": {
        "id": "MqtSFg3NKsOf"
      }
    },
    {
      "cell_type": "code",
      "source": [
        "from sklearn.metrics import accuracy_score\n",
        "\n",
        "# now calculating that how much accurate our model is with comparing our predicted values and y_test values\n",
        "accuracy_score = accuracy_score(y_test, predicted_y) \n",
        "prediction = accuracy_score * 100\n",
        "print (\"Final Prediction Score: \",prediction)"
      ],
      "metadata": {
        "colab": {
          "base_uri": "https://localhost:8080/"
        },
        "id": "IlQtkRISKyL-",
        "outputId": "5faca7c8-3de1-45c8-f391-6af46aa3f6f6"
      },
      "execution_count": null,
      "outputs": [
        {
          "output_type": "stream",
          "name": "stdout",
          "text": [
            "Final Prediction Score:  73.62204724409449\n"
          ]
        }
      ]
    },
    {
      "cell_type": "markdown",
      "source": [
        "# **Step 7: Plotting results**"
      ],
      "metadata": {
        "id": "Nu-GEwbmM-dL"
      }
    },
    {
      "cell_type": "code",
      "source": [
        "import matplotlib\n",
        "import matplotlib.pyplot as plt\n",
        "import matplotlib.image as mpimg\n",
        "\n",
        "# plot histogram of predicted probabilities\n",
        "\n",
        "\n",
        "# adjust the font size \n",
        "plt.rcParams['font.size'] = 12\n",
        "\n",
        "\n",
        "# plot histogram with 10 bins\n",
        "plt.hist(predicted_y, bins = 10)\n",
        "\n",
        "\n",
        "# set the title of predicted probabilities\n",
        "plt.title('Histogram of predicted probabilities of onset of diabetes.')\n",
        "\n",
        "\n",
        "# set the x-axis limit\n",
        "plt.xlim(0,1)\n",
        "\n",
        "\n",
        "# set the title\n",
        "plt.xlabel('Predicted probabilities of diabetes')\n",
        "plt.ylabel('Year')\n"
      ],
      "metadata": {
        "colab": {
          "base_uri": "https://localhost:8080/",
          "height": 320
        },
        "id": "Oatevp1kNDyd",
        "outputId": "262fd7fe-1216-4ee7-9117-17ee557a758d"
      },
      "execution_count": null,
      "outputs": [
        {
          "output_type": "execute_result",
          "data": {
            "text/plain": [
              "Text(0, 0.5, 'Year')"
            ]
          },
          "metadata": {},
          "execution_count": 9
        },
        {
          "output_type": "display_data",
          "data": {
            "text/plain": [
              "<Figure size 432x288 with 1 Axes>"
            ],
            "image/png": "[encoded data removed]"
          },
          "metadata": {
            "needs_background": "light"
          }
        }
      ]
    },
    {
      "cell_type": "markdown",
      "source": [
        "# **Step 8: Visualize confusion matrix with seaborn heatmap**"
      ],
      "metadata": {
        "id": "oQr2AoFhT8oM"
      }
    },
    {
      "cell_type": "code",
      "source": [
        "import seaborn as sns # for statistical data visualization\n",
        "from sklearn.metrics import confusion_matrix,accuracy_score\n",
        "\n",
        "cm = confusion_matrix(y_test, predicted_y)\n",
        "ac = accuracy_score(y_test,predicted_y)\n",
        "\n",
        "cm = pd.DataFrame(data=cm, columns=['Actual Positive:1', 'Actual Negative:0'], index=['Predict Positive:1', 'Predict Negative:0'])\n",
        "\n",
        "sns.heatmap(cm, annot=True, fmt='d', cmap='YlGnBu')\n"
      ],
      "metadata": {
        "colab": {
          "base_uri": "https://localhost:8080/",
          "height": 286
        },
        "id": "1licPB8_SyvG",
        "outputId": "88248aea-537d-43bb-b30c-84e8a15a9fad"
      },
      "execution_count": null,
      "outputs": [
        {
          "output_type": "execute_result",
          "data": {
            "text/plain": [
              "<matplotlib.axes._subplots.AxesSubplot at 0x7f54a3fe1310>"
            ]
          },
          "metadata": {},
          "execution_count": 10
        },
        {
          "output_type": "display_data",
          "data": {
            "text/plain": [
              "<Figure size 432x288 with 2 Axes>"
            ],
            "image/png": "[encoded data removed]"
          },
          "metadata": {
            "needs_background": "light"
          }
        }
      ]
    }
  ]
}